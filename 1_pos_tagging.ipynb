{
  "nbformat": 4,
  "nbformat_minor": 0,
  "metadata": {
    "colab": {
      "name": "pos_tag.ipynb",
      "provenance": [],
      "collapsed_sections": [],
      "authorship_tag": "ABX9TyPbuSMY3t/rl6o1MwFZKTiT",
      "include_colab_link": true
    },
    "kernelspec": {
      "name": "python3",
      "display_name": "Python 3"
    },
    "language_info": {
      "name": "python"
    }
  },
  "cells": [
    {
      "cell_type": "markdown",
      "metadata": {
        "id": "view-in-github",
        "colab_type": "text"
      },
      "source": [
        "<a href=\"https://colab.research.google.com/github/sayarghoshroy/NLP_course_at_ISB/blob/main/1_pos_tagging.ipynb\" target=\"_parent\"><img src=\"https://colab.research.google.com/assets/colab-badge.svg\" alt=\"Open In Colab\"/></a>"
      ]
    },
    {
      "cell_type": "code",
      "execution_count": null,
      "metadata": {
        "id": "0bwbxsKds7tP"
      },
      "outputs": [],
      "source": [
        "import spacy\n",
        "from spacy import displacy\n",
        "import nltk\n",
        "import numpy as np\n",
        "import matplotlib.pyplot as plt\n",
        "import warnings\n",
        "import pandas as pd\n",
        "\n",
        "from IPython.display import display\n",
        "warnings.filterwarnings('ignore')"
      ]
    },
    {
      "cell_type": "code",
      "source": [
        "# Initializing the spaCy processor models\n",
        "proc = spacy.load(\"en_core_web_sm\")\n",
        "\n",
        "# embedder = spacy.load(\"en_core_web_lg\")\n",
        "\n",
        "# if errors: do this, this is what worked for me\n",
        "# python -m spacy download en\n",
        "# conda install -c conda-forge spacy\n",
        "# python -m spacy download en_core_web_sm\n",
        "# python -m spacy link en_core_web_sm en --force"
      ],
      "metadata": {
        "id": "YMWVbNUctSq0"
      },
      "execution_count": null,
      "outputs": []
    },
    {
      "cell_type": "code",
      "source": [
        "sentence = \"Falcon 9's first stage booster supporting this mission previously launched Arabsat-6A, STP-2, COSMO-SkyMed Second Generation FM2, and one Starlink mission.\""
      ],
      "metadata": {
        "id": "OLkHWGxHtZIW"
      },
      "execution_count": null,
      "outputs": []
    },
    {
      "cell_type": "code",
      "source": [
        "extract = proc(sentence)"
      ],
      "metadata": {
        "id": "hoTioM3KtWX6"
      },
      "execution_count": null,
      "outputs": []
    },
    {
      "cell_type": "code",
      "source": [
        "def display_pos_tags(extract):\n",
        "    count = 0\n",
        "    index_arr = []\n",
        "    words = []\n",
        "    pos = []\n",
        "    \n",
        "    for index, token in enumerate(extract):\n",
        "        index_arr.append(str(index + 1))\n",
        "        words.append(token.text)\n",
        "        pos.append(token.pos_.lower())\n",
        "        \n",
        "    d = {'Token Word': words, 'POS': pos}\n",
        "    df = pd.DataFrame(index = index_arr, data = d)\n",
        "    display(df)"
      ],
      "metadata": {
        "id": "PHM7J0rbt6_p"
      },
      "execution_count": null,
      "outputs": []
    },
    {
      "cell_type": "code",
      "source": [
        "# Viewing properties\n",
        "print(\"Number of Sentence Tokens: \", len(extract))\n",
        "\n",
        "# Visualize the set of the extracted features\n",
        "display_pos_tags(extract)"
      ],
      "metadata": {
        "colab": {
          "base_uri": "https://localhost:8080/",
          "height": 913
        },
        "id": "sae6c7peuUZP",
        "outputId": "283918bc-cc9f-4d13-9ee9-ac1881abdaaf"
      },
      "execution_count": null,
      "outputs": [
        {
          "output_type": "stream",
          "name": "stdout",
          "text": [
            "Number of Sentence Tokens:  27\n"
          ]
        },
        {
          "output_type": "display_data",
          "data": {
            "text/plain": [
              "    Token Word    POS\n",
              "1       Falcon  propn\n",
              "2            9    num\n",
              "3           's   part\n",
              "4        first    adj\n",
              "5        stage   noun\n",
              "6      booster   noun\n",
              "7   supporting   verb\n",
              "8         this    det\n",
              "9      mission   noun\n",
              "10  previously    adv\n",
              "11    launched   verb\n",
              "12  Arabsat-6A  propn\n",
              "13           ,  punct\n",
              "14       STP-2  propn\n",
              "15           ,  punct\n",
              "16       COSMO  propn\n",
              "17           -  punct\n",
              "18      SkyMed  propn\n",
              "19      Second  propn\n",
              "20  Generation  propn\n",
              "21         FM2  propn\n",
              "22           ,  punct\n",
              "23         and  cconj\n",
              "24         one    num\n",
              "25    Starlink  propn\n",
              "26     mission   noun\n",
              "27           .  punct"
            ],
            "text/html": [
              "\n",
              "  <div id=\"df-48b502c8-84ac-4f7c-8172-a2ad21ed0bba\">\n",
              "    <div class=\"colab-df-container\">\n",
              "      <div>\n",
              "<style scoped>\n",
              "    .dataframe tbody tr th:only-of-type {\n",
              "        vertical-align: middle;\n",
              "    }\n",
              "\n",
              "    .dataframe tbody tr th {\n",
              "        vertical-align: top;\n",
              "    }\n",
              "\n",
              "    .dataframe thead th {\n",
              "        text-align: right;\n",
              "    }\n",
              "</style>\n",
              "<table border=\"1\" class=\"dataframe\">\n",
              "  <thead>\n",
              "    <tr style=\"text-align: right;\">\n",
              "      <th></th>\n",
              "      <th>Token Word</th>\n",
              "      <th>POS</th>\n",
              "    </tr>\n",
              "  </thead>\n",
              "  <tbody>\n",
              "    <tr>\n",
              "      <th>1</th>\n",
              "      <td>Falcon</td>\n",
              "      <td>propn</td>\n",
              "    </tr>\n",
              "    <tr>\n",
              "      <th>2</th>\n",
              "      <td>9</td>\n",
              "      <td>num</td>\n",
              "    </tr>\n",
              "    <tr>\n",
              "      <th>3</th>\n",
              "      <td>'s</td>\n",
              "      <td>part</td>\n",
              "    </tr>\n",
              "    <tr>\n",
              "      <th>4</th>\n",
              "      <td>first</td>\n",
              "      <td>adj</td>\n",
              "    </tr>\n",
              "    <tr>\n",
              "      <th>5</th>\n",
              "      <td>stage</td>\n",
              "      <td>noun</td>\n",
              "    </tr>\n",
              "    <tr>\n",
              "      <th>6</th>\n",
              "      <td>booster</td>\n",
              "      <td>noun</td>\n",
              "    </tr>\n",
              "    <tr>\n",
              "      <th>7</th>\n",
              "      <td>supporting</td>\n",
              "      <td>verb</td>\n",
              "    </tr>\n",
              "    <tr>\n",
              "      <th>8</th>\n",
              "      <td>this</td>\n",
              "      <td>det</td>\n",
              "    </tr>\n",
              "    <tr>\n",
              "      <th>9</th>\n",
              "      <td>mission</td>\n",
              "      <td>noun</td>\n",
              "    </tr>\n",
              "    <tr>\n",
              "      <th>10</th>\n",
              "      <td>previously</td>\n",
              "      <td>adv</td>\n",
              "    </tr>\n",
              "    <tr>\n",
              "      <th>11</th>\n",
              "      <td>launched</td>\n",
              "      <td>verb</td>\n",
              "    </tr>\n",
              "    <tr>\n",
              "      <th>12</th>\n",
              "      <td>Arabsat-6A</td>\n",
              "      <td>propn</td>\n",
              "    </tr>\n",
              "    <tr>\n",
              "      <th>13</th>\n",
              "      <td>,</td>\n",
              "      <td>punct</td>\n",
              "    </tr>\n",
              "    <tr>\n",
              "      <th>14</th>\n",
              "      <td>STP-2</td>\n",
              "      <td>propn</td>\n",
              "    </tr>\n",
              "    <tr>\n",
              "      <th>15</th>\n",
              "      <td>,</td>\n",
              "      <td>punct</td>\n",
              "    </tr>\n",
              "    <tr>\n",
              "      <th>16</th>\n",
              "      <td>COSMO</td>\n",
              "      <td>propn</td>\n",
              "    </tr>\n",
              "    <tr>\n",
              "      <th>17</th>\n",
              "      <td>-</td>\n",
              "      <td>punct</td>\n",
              "    </tr>\n",
              "    <tr>\n",
              "      <th>18</th>\n",
              "      <td>SkyMed</td>\n",
              "      <td>propn</td>\n",
              "    </tr>\n",
              "    <tr>\n",
              "      <th>19</th>\n",
              "      <td>Second</td>\n",
              "      <td>propn</td>\n",
              "    </tr>\n",
              "    <tr>\n",
              "      <th>20</th>\n",
              "      <td>Generation</td>\n",
              "      <td>propn</td>\n",
              "    </tr>\n",
              "    <tr>\n",
              "      <th>21</th>\n",
              "      <td>FM2</td>\n",
              "      <td>propn</td>\n",
              "    </tr>\n",
              "    <tr>\n",
              "      <th>22</th>\n",
              "      <td>,</td>\n",
              "      <td>punct</td>\n",
              "    </tr>\n",
              "    <tr>\n",
              "      <th>23</th>\n",
              "      <td>and</td>\n",
              "      <td>cconj</td>\n",
              "    </tr>\n",
              "    <tr>\n",
              "      <th>24</th>\n",
              "      <td>one</td>\n",
              "      <td>num</td>\n",
              "    </tr>\n",
              "    <tr>\n",
              "      <th>25</th>\n",
              "      <td>Starlink</td>\n",
              "      <td>propn</td>\n",
              "    </tr>\n",
              "    <tr>\n",
              "      <th>26</th>\n",
              "      <td>mission</td>\n",
              "      <td>noun</td>\n",
              "    </tr>\n",
              "    <tr>\n",
              "      <th>27</th>\n",
              "      <td>.</td>\n",
              "      <td>punct</td>\n",
              "    </tr>\n",
              "  </tbody>\n",
              "</table>\n",
              "</div>\n",
              "      <button class=\"colab-df-convert\" onclick=\"convertToInteractive('df-48b502c8-84ac-4f7c-8172-a2ad21ed0bba')\"\n",
              "              title=\"Convert this dataframe to an interactive table.\"\n",
              "              style=\"display:none;\">\n",
              "        \n",
              "  <svg xmlns=\"http://www.w3.org/2000/svg\" height=\"24px\"viewBox=\"0 0 24 24\"\n",
              "       width=\"24px\">\n",
              "    <path d=\"M0 0h24v24H0V0z\" fill=\"none\"/>\n",
              "    <path d=\"M18.56 5.44l.94 2.06.94-2.06 2.06-.94-2.06-.94-.94-2.06-.94 2.06-2.06.94zm-11 1L8.5 8.5l.94-2.06 2.06-.94-2.06-.94L8.5 2.5l-.94 2.06-2.06.94zm10 10l.94 2.06.94-2.06 2.06-.94-2.06-.94-.94-2.06-.94 2.06-2.06.94z\"/><path d=\"M17.41 7.96l-1.37-1.37c-.4-.4-.92-.59-1.43-.59-.52 0-1.04.2-1.43.59L10.3 9.45l-7.72 7.72c-.78.78-.78 2.05 0 2.83L4 21.41c.39.39.9.59 1.41.59.51 0 1.02-.2 1.41-.59l7.78-7.78 2.81-2.81c.8-.78.8-2.07 0-2.86zM5.41 20L4 18.59l7.72-7.72 1.47 1.35L5.41 20z\"/>\n",
              "  </svg>\n",
              "      </button>\n",
              "      \n",
              "  <style>\n",
              "    .colab-df-container {\n",
              "      display:flex;\n",
              "      flex-wrap:wrap;\n",
              "      gap: 12px;\n",
              "    }\n",
              "\n",
              "    .colab-df-convert {\n",
              "      background-color: #E8F0FE;\n",
              "      border: none;\n",
              "      border-radius: 50%;\n",
              "      cursor: pointer;\n",
              "      display: none;\n",
              "      fill: #1967D2;\n",
              "      height: 32px;\n",
              "      padding: 0 0 0 0;\n",
              "      width: 32px;\n",
              "    }\n",
              "\n",
              "    .colab-df-convert:hover {\n",
              "      background-color: #E2EBFA;\n",
              "      box-shadow: 0px 1px 2px rgba(60, 64, 67, 0.3), 0px 1px 3px 1px rgba(60, 64, 67, 0.15);\n",
              "      fill: #174EA6;\n",
              "    }\n",
              "\n",
              "    [theme=dark] .colab-df-convert {\n",
              "      background-color: #3B4455;\n",
              "      fill: #D2E3FC;\n",
              "    }\n",
              "\n",
              "    [theme=dark] .colab-df-convert:hover {\n",
              "      background-color: #434B5C;\n",
              "      box-shadow: 0px 1px 3px 1px rgba(0, 0, 0, 0.15);\n",
              "      filter: drop-shadow(0px 1px 2px rgba(0, 0, 0, 0.3));\n",
              "      fill: #FFFFFF;\n",
              "    }\n",
              "  </style>\n",
              "\n",
              "      <script>\n",
              "        const buttonEl =\n",
              "          document.querySelector('#df-48b502c8-84ac-4f7c-8172-a2ad21ed0bba button.colab-df-convert');\n",
              "        buttonEl.style.display =\n",
              "          google.colab.kernel.accessAllowed ? 'block' : 'none';\n",
              "\n",
              "        async function convertToInteractive(key) {\n",
              "          const element = document.querySelector('#df-48b502c8-84ac-4f7c-8172-a2ad21ed0bba');\n",
              "          const dataTable =\n",
              "            await google.colab.kernel.invokeFunction('convertToInteractive',\n",
              "                                                     [key], {});\n",
              "          if (!dataTable) return;\n",
              "\n",
              "          const docLinkHtml = 'Like what you see? Visit the ' +\n",
              "            '<a target=\"_blank\" href=https://colab.research.google.com/notebooks/data_table.ipynb>data table notebook</a>'\n",
              "            + ' to learn more about interactive tables.';\n",
              "          element.innerHTML = '';\n",
              "          dataTable['output_type'] = 'display_data';\n",
              "          await google.colab.output.renderOutput(dataTable, element);\n",
              "          const docLink = document.createElement('div');\n",
              "          docLink.innerHTML = docLinkHtml;\n",
              "          element.appendChild(docLink);\n",
              "        }\n",
              "      </script>\n",
              "    </div>\n",
              "  </div>\n",
              "  "
            ]
          },
          "metadata": {}
        }
      ]
    },
    {
      "cell_type": "code",
      "source": [
        "def get_nouns(sentence):\n",
        "  extract = proc(sentence)\n",
        "\n",
        "  valid_tags = set(['noun', 'propn'])\n",
        "  nouns = []\n",
        "\n",
        "  for item in extract:\n",
        "    if item.pos_.lower() in valid_tags:\n",
        "      nouns.append(item.text)\n",
        "\n",
        "  return nouns"
      ],
      "metadata": {
        "id": "NYf8Yo8juas8"
      },
      "execution_count": null,
      "outputs": []
    },
    {
      "cell_type": "code",
      "source": [
        "get_nouns(sentence)"
      ],
      "metadata": {
        "colab": {
          "base_uri": "https://localhost:8080/"
        },
        "id": "RZKbPzY7uyi_",
        "outputId": "0ed25512-4a75-4b32-f907-906f260b09c7"
      },
      "execution_count": null,
      "outputs": [
        {
          "output_type": "execute_result",
          "data": {
            "text/plain": [
              "['Falcon',\n",
              " 'stage',\n",
              " 'booster',\n",
              " 'mission',\n",
              " 'Arabsat-6A',\n",
              " 'STP-2',\n",
              " 'COSMO',\n",
              " 'SkyMed',\n",
              " 'Second',\n",
              " 'Generation',\n",
              " 'FM2',\n",
              " 'Starlink',\n",
              " 'mission']"
            ]
          },
          "metadata": {},
          "execution_count": 8
        }
      ]
    },
    {
      "cell_type": "code",
      "source": [
        "# Using NLTK to achieve the same functionality\n",
        "\n",
        "import nltk\n",
        "from nltk.tokenize import word_tokenize\n",
        "\n",
        "nltk.download('punkt')\n",
        "nltk.download('averaged_perceptron_tagger')"
      ],
      "metadata": {
        "colab": {
          "base_uri": "https://localhost:8080/"
        },
        "id": "attVft-dvo_w",
        "outputId": "7ba74c23-a967-4f9c-84d1-033dbcefd697"
      },
      "execution_count": null,
      "outputs": [
        {
          "output_type": "stream",
          "name": "stdout",
          "text": [
            "[nltk_data] Downloading package punkt to /root/nltk_data...\n",
            "[nltk_data]   Package punkt is already up-to-date!\n",
            "[nltk_data] Downloading package averaged_perceptron_tagger to\n",
            "[nltk_data]     /root/nltk_data...\n",
            "[nltk_data]   Package averaged_perceptron_tagger is already up-to-\n",
            "[nltk_data]       date!\n"
          ]
        },
        {
          "output_type": "execute_result",
          "data": {
            "text/plain": [
              "True"
            ]
          },
          "metadata": {},
          "execution_count": 9
        }
      ]
    },
    {
      "cell_type": "code",
      "source": [
        "def get_nouns_alternate(sentence):\n",
        "  view = 1\n",
        "\n",
        "  token_sequence = nltk.word_tokenize(sentence)\n",
        "  tagged = nltk.pos_tag(token_sequence)\n",
        "\n",
        "  if view:\n",
        "    print('Tokens: ' + str(token_sequence))\n",
        "    print('Tagged Tokens: ' + str(tagged))\n",
        "\n",
        "  valid_tags = set(['NN', 'NNS', 'NNP', 'NNPS'])\n",
        "  nouns = []\n",
        "\n",
        "  for item in tagged:\n",
        "    if item[1] in valid_tags:\n",
        "      nouns.append(item[0])\n",
        "\n",
        "  return nouns"
      ],
      "metadata": {
        "id": "TG2wsRCywDrQ"
      },
      "execution_count": null,
      "outputs": []
    },
    {
      "cell_type": "code",
      "source": [
        "noun_list = get_nouns_alternate(sentence)"
      ],
      "metadata": {
        "colab": {
          "base_uri": "https://localhost:8080/"
        },
        "id": "3N16QaVyxBoU",
        "outputId": "9ccf8665-83b6-4b85-8d43-5370d6cbf61f"
      },
      "execution_count": null,
      "outputs": [
        {
          "output_type": "stream",
          "name": "stdout",
          "text": [
            "Tokens: ['Falcon', '9', \"'s\", 'first', 'stage', 'booster', 'supporting', 'this', 'mission', 'previously', 'launched', 'Arabsat-6A', ',', 'STP-2', ',', 'COSMO-SkyMed', 'Second', 'Generation', 'FM2', ',', 'and', 'one', 'Starlink', 'mission', '.']\n",
            "Tagged Tokens: [('Falcon', 'NNP'), ('9', 'CD'), (\"'s\", 'POS'), ('first', 'JJ'), ('stage', 'NN'), ('booster', 'NN'), ('supporting', 'VBG'), ('this', 'DT'), ('mission', 'NN'), ('previously', 'RB'), ('launched', 'VBN'), ('Arabsat-6A', 'NNP'), (',', ','), ('STP-2', 'NNP'), (',', ','), ('COSMO-SkyMed', 'NNP'), ('Second', 'NNP'), ('Generation', 'NNP'), ('FM2', 'NNP'), (',', ','), ('and', 'CC'), ('one', 'CD'), ('Starlink', 'NNP'), ('mission', 'NN'), ('.', '.')]\n"
          ]
        }
      ]
    },
    {
      "cell_type": "code",
      "source": [
        "noun_list"
      ],
      "metadata": {
        "colab": {
          "base_uri": "https://localhost:8080/"
        },
        "id": "3JEI7AgHxUca",
        "outputId": "53cb7656-0575-4c09-cfa1-d2a583af474a"
      },
      "execution_count": null,
      "outputs": [
        {
          "output_type": "execute_result",
          "data": {
            "text/plain": [
              "['Falcon',\n",
              " 'stage',\n",
              " 'booster',\n",
              " 'mission',\n",
              " 'Arabsat-6A',\n",
              " 'STP-2',\n",
              " 'COSMO-SkyMed',\n",
              " 'Second',\n",
              " 'Generation',\n",
              " 'FM2',\n",
              " 'Starlink',\n",
              " 'mission']"
            ]
          },
          "metadata": {},
          "execution_count": 12
        }
      ]
    },
    {
      "cell_type": "code",
      "source": [
        "# That's it"
      ],
      "metadata": {
        "id": "TIXWiqL7vAi8"
      },
      "execution_count": null,
      "outputs": []
    }
  ]
}